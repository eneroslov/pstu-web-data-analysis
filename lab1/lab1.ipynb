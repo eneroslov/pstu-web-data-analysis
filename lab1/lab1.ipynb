{
  "cells": [
    {
      "cell_type": "code",
      "execution_count": 1,
      "metadata": {
        "colab": {
          "base_uri": "https://localhost:8080/"
        },
        "id": "suh5au4HolMJ",
        "outputId": "037585bf-14fb-4737-ccdf-0301893ac811"
      },
      "outputs": [
        {
          "name": "stdout",
          "output_type": "stream",
          "text": [
            "Requirement already satisfied: requests in /usr/local/lib/python3.10/dist-packages (2.32.3)\n",
            "Requirement already satisfied: bs4 in /usr/local/lib/python3.10/dist-packages (0.0.2)\n",
            "Requirement already satisfied: graphviz in /usr/local/lib/python3.10/dist-packages (0.20.3)\n",
            "Requirement already satisfied: pymorphy3 in /usr/local/lib/python3.10/dist-packages (2.0.2)\n",
            "Requirement already satisfied: googletrans in /usr/local/lib/python3.10/dist-packages (4.0.0rc1)\n",
            "Requirement already satisfied: charset-normalizer<4,>=2 in /usr/local/lib/python3.10/dist-packages (from requests) (3.3.2)\n",
            "Requirement already satisfied: idna<4,>=2.5 in /usr/local/lib/python3.10/dist-packages (from requests) (2.10)\n",
            "Requirement already satisfied: urllib3<3,>=1.21.1 in /usr/local/lib/python3.10/dist-packages (from requests) (2.2.3)\n",
            "Requirement already satisfied: certifi>=2017.4.17 in /usr/local/lib/python3.10/dist-packages (from requests) (2024.8.30)\n",
            "Requirement already satisfied: beautifulsoup4 in /usr/local/lib/python3.10/dist-packages (from bs4) (4.12.3)\n",
            "Requirement already satisfied: dawg-python>=0.7.1 in /usr/local/lib/python3.10/dist-packages (from pymorphy3) (0.7.2)\n",
            "Requirement already satisfied: pymorphy3-dicts-ru in /usr/local/lib/python3.10/dist-packages (from pymorphy3) (2.4.417150.4580142)\n",
            "Requirement already satisfied: httpx==0.13.3 in /usr/local/lib/python3.10/dist-packages (from googletrans) (0.13.3)\n",
            "Requirement already satisfied: hstspreload in /usr/local/lib/python3.10/dist-packages (from httpx==0.13.3->googletrans) (2024.9.1)\n",
            "Requirement already satisfied: sniffio in /usr/local/lib/python3.10/dist-packages (from httpx==0.13.3->googletrans) (1.3.1)\n",
            "Requirement already satisfied: chardet==3.* in /usr/local/lib/python3.10/dist-packages (from httpx==0.13.3->googletrans) (3.0.4)\n",
            "Requirement already satisfied: rfc3986<2,>=1.3 in /usr/local/lib/python3.10/dist-packages (from httpx==0.13.3->googletrans) (1.5.0)\n",
            "Requirement already satisfied: httpcore==0.9.* in /usr/local/lib/python3.10/dist-packages (from httpx==0.13.3->googletrans) (0.9.1)\n",
            "Requirement already satisfied: h11<0.10,>=0.8 in /usr/local/lib/python3.10/dist-packages (from httpcore==0.9.*->httpx==0.13.3->googletrans) (0.9.0)\n",
            "Requirement already satisfied: h2==3.* in /usr/local/lib/python3.10/dist-packages (from httpcore==0.9.*->httpx==0.13.3->googletrans) (3.2.0)\n",
            "Requirement already satisfied: hyperframe<6,>=5.2.0 in /usr/local/lib/python3.10/dist-packages (from h2==3.*->httpcore==0.9.*->httpx==0.13.3->googletrans) (5.2.0)\n",
            "Requirement already satisfied: hpack<4,>=3.0 in /usr/local/lib/python3.10/dist-packages (from h2==3.*->httpcore==0.9.*->httpx==0.13.3->googletrans) (3.0.0)\n",
            "Requirement already satisfied: soupsieve>1.2 in /usr/local/lib/python3.10/dist-packages (from beautifulsoup4->bs4) (2.6)\n"
          ]
        }
      ],
      "source": [
        "!pip install requests bs4 graphviz pymorphy3 googletrans"
      ]
    },
    {
      "cell_type": "code",
      "execution_count": 2,
      "metadata": {
        "id": "3V-4NQsrmvLQ"
      },
      "outputs": [],
      "source": [
        "import requests\n",
        "from bs4 import BeautifulSoup\n",
        "import json\n",
        "from graphviz import Digraph\n",
        "from googletrans import Translator"
      ]
    },
    {
      "cell_type": "code",
      "execution_count": 3,
      "metadata": {
        "id": "OYcDxUHC94ap"
      },
      "outputs": [],
      "source": [
        "translator = Translator()\n",
        "\n",
        "WIKI_API_URL = \"https://ru.wikipedia.org/w/api.php\""
      ]
    },
    {
      "cell_type": "code",
      "execution_count": 4,
      "metadata": {
        "id": "4DhvCaQX-F_G"
      },
      "outputs": [],
      "source": [
        "# Функция для поиска статьи и получения её контента.\n",
        "def get_wiki_page_content(title):\n",
        "    params = {\n",
        "        \"action\": \"query\",\n",
        "        \"prop\": \"extracts|links|images\",\n",
        "        \"titles\": title,\n",
        "        \"format\": \"json\",\n",
        "        \"explaintext\": 1,\n",
        "        \"pllimit\": \"max\",\n",
        "        \"imlimit\": \"max\"\n",
        "    }\n",
        "    response = requests.get(WIKI_API_URL, params=params)\n",
        "    data = response.json()\n",
        "    pages = data['query']['pages']\n",
        "\n",
        "    page = next(iter(pages.values()))\n",
        "\n",
        "    # Получаем основной текст и связанные узлы (ссылки).\n",
        "    content = {\n",
        "        \"title\": page.get(\"title\"),\n",
        "        \"text\": page.get(\"extract\", \"\"),\n",
        "        \"links\": [link['title'] for link in page.get(\"links\", [])],\n",
        "        \"images\": [image['title'] for image in page.get(\"images\", [])]\n",
        "    }\n",
        "\n",
        "    return content"
      ]
    },
    {
      "cell_type": "code",
      "execution_count": 5,
      "metadata": {
        "id": "dhvWu5mN-NQH"
      },
      "outputs": [],
      "source": [
        "# Функция для построения графа в формате DOT.\n",
        "def build_dot_graph(data):\n",
        "    dot = Digraph(comment='Wikimedia Articles Graph')\n",
        "\n",
        "    for node, content in data.items():\n",
        "        dot.node(node, node)\n",
        "        for link in content['links']:\n",
        "            if link in data:\n",
        "                dot.edge(node, link)\n",
        "\n",
        "    return dot"
      ]
    },
    {
      "cell_type": "code",
      "execution_count": 6,
      "metadata": {
        "id": "o3wETZncA21s"
      },
      "outputs": [],
      "source": [
        "# Функция для сбора данных и создания графа.\n",
        "def collect_wiki_data(subject, limit=30):\n",
        "    visited = set()\n",
        "    to_visit = [subject]\n",
        "    articles_data = {}\n",
        "\n",
        "    while to_visit and len(articles_data) < limit:\n",
        "        current_subject = to_visit.pop(0)\n",
        "        if current_subject in visited:\n",
        "            continue\n",
        "\n",
        "        print(f\"Fetching article: {current_subject}\")\n",
        "        content = get_wiki_page_content(current_subject)\n",
        "        articles_data[current_subject] = content\n",
        "        visited.add(current_subject)\n",
        "\n",
        "        to_visit.extend([link for link in content['links'] if link not in visited and link not in to_visit])\n",
        "\n",
        "    return articles_data"
      ]
    },
    {
      "cell_type": "code",
      "execution_count": 7,
      "metadata": {
        "id": "UuNNbTwPCKcF"
      },
      "outputs": [],
      "source": [
        "# Функция для автоматического перевода текста на русский (если статья на другом языке).\n",
        "def translate_text(text, dest='ru'):\n",
        "    translated = translator.translate(text, dest=dest)\n",
        "    return translated.text"
      ]
    },
    {
      "cell_type": "code",
      "execution_count": 10,
      "metadata": {
        "colab": {
          "base_uri": "https://localhost:8080/",
          "height": 556
        },
        "id": "NcqyDzLfA71F",
        "outputId": "d3a60b31-fdc1-4aed-9868-16a16a89be3f"
      },
      "outputs": [
        {
          "name": "stdout",
          "output_type": "stream",
          "text": [
            "Fetching article: Чёрная металлургия\n",
            "Fetching article: Arcelor Mittal\n",
            "Fetching article: Gerdau\n",
            "Fetching article: POSCO\n",
            "Fetching article: Tata Steel\n",
            "Fetching article: Techint\n",
            "Fetching article: U.S. Steel\n",
            "Fetching article: Wayback Machine\n",
            "Fetching article: Австралия\n",
            "Fetching article: Агломерат (металлургия)\n",
            "Fetching article: Агломерационная машина\n",
            "Fetching article: Агломерационная фабрика\n",
            "Fetching article: Агломерация (металлургия)\n",
            "Fetching article: Азовсталь\n",
            "Fetching article: Алюминиевая промышленность\n",
            "Fetching article: Алюминотермия\n",
            "Fetching article: Аносов, Павел Петрович\n",
            "Fetching article: Антрацит\n",
            "Fetching article: Аргентина\n",
            "Fetching article: Аффинаж\n",
            "Fetching article: Байков, Александр Александрович\n",
            "Fetching article: Бардин, Иван Павлович\n",
            "Fetching article: Бессемер, Генри\n",
            "Fetching article: Бессемеровский процесс\n",
            "Fetching article: Блюминг (стан)\n",
            "Fetching article: Брикет (металлургия)\n",
            "Fetching article: Брикетный пресс\n",
            "Fetching article: Вакууматор\n",
            "Fetching article: Вакуумная металлургия\n",
            "Fetching article: Великая Отечественная война\n"
          ]
        },
        {
          "data": {
            "application/vnd.google.colaboratory.intrinsic+json": {
              "type": "string"
            },
            "text/plain": [
              "'wiki_graph.dot.pdf'"
            ]
          },
          "execution_count": 10,
          "metadata": {},
          "output_type": "execute_result"
        }
      ],
      "source": [
        "subject = \"Чёрная металлургия\"\n",
        "articles_data = collect_wiki_data(subject)\n",
        "\n",
        "with open('wiki_data.json', 'w', encoding='utf-8') as f:\n",
        "    json.dump(articles_data, f, ensure_ascii=False, indent=4)\n",
        "\n",
        "dot_graph = build_dot_graph(articles_data)\n",
        "\n",
        "dot_graph.render('wiki_graph.dot', view=True)"
      ]
    }
  ],
  "metadata": {
    "colab": {
      "provenance": []
    },
    "kernelspec": {
      "display_name": "Python 3",
      "name": "python3"
    },
    "language_info": {
      "name": "python"
    }
  },
  "nbformat": 4,
  "nbformat_minor": 0
}
